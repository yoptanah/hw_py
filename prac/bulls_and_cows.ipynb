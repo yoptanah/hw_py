{
 "cells": [
  {
   "cell_type": "code",
   "execution_count": 1,
   "id": "62d606f3",
   "metadata": {},
   "outputs": [
    {
     "name": "stdout",
     "output_type": "stream",
     "text": [
      "Guess the number: 1234\n",
      "Bulls: 0\n",
      "Cows: 0\n",
      "Guess the number: 5678\n",
      "Bulls: 0\n",
      "Cows: 3\n",
      "Guess the number: 0000\n",
      "Bulls: 0\n",
      "Cows: 0\n",
      "Guess the number: 9999\n",
      "Bulls: 1\n",
      "Cows: 3\n",
      "Guess the number: 5670\n",
      "Bulls: 0\n",
      "Cows: 3\n",
      "Guess the number: 7659\n",
      "Bulls: 1\n",
      "Cows: 3\n",
      "Guess the number: 7569\n",
      "Bulls: 2\n",
      "Cows: 2\n",
      "Guess the number: 7544\n",
      "Bulls: 2\n",
      "Cows: 0\n",
      "Guess the number: 7596\n",
      "You won!\n"
     ]
    }
   ],
   "source": [
    "import random\n",
    "\n",
    "def gen_num():   \n",
    "    numlist = []\n",
    "    for i in range(4):\n",
    "        n = str(random.randint(0, 9))\n",
    "        numlist.append(n) \n",
    "    return ''.join(numlist)\n",
    "\n",
    "def check_num(num, guess_num):\n",
    "    bulls = 0\n",
    "    cows = 0\n",
    "    guess_num_set = set()\n",
    "    for digit in range(4):\n",
    "        if guess_num[digit] == num[digit]:\n",
    "            bulls += 1\n",
    "            \n",
    "        elif guess_num[digit] in num:\n",
    "            cows += 1\n",
    "            \n",
    "    return bulls, cows\n",
    "\n",
    "def main():\n",
    "    num = gen_num()\n",
    "    while True:\n",
    "        guess_num = input('Guess the number: ')\n",
    "        bulls, cows = check_num(num, guess_num)\n",
    "        if len(guess_num) != 4:\n",
    "            print('Wrong input, try again')\n",
    "            continue\n",
    "\n",
    "        if bulls != 4:\n",
    "            print(f'Bulls: {bulls}')\n",
    "            print(f'Cows: {cows}')\n",
    "            continue\n",
    "\n",
    "        if bulls == 4:\n",
    "            print('You won!')\n",
    "            break\n",
    "            \n",
    "main()\n"
   ]
  },
  {
   "cell_type": "code",
   "execution_count": null,
   "id": "95331922",
   "metadata": {},
   "outputs": [],
   "source": []
  },
  {
   "cell_type": "code",
   "execution_count": null,
   "id": "df54876b",
   "metadata": {},
   "outputs": [],
   "source": []
  }
 ],
 "metadata": {
  "kernelspec": {
   "display_name": "Python 3 (ipykernel)",
   "language": "python",
   "name": "python3"
  },
  "language_info": {
   "codemirror_mode": {
    "name": "ipython",
    "version": 3
   },
   "file_extension": ".py",
   "mimetype": "text/x-python",
   "name": "python",
   "nbconvert_exporter": "python",
   "pygments_lexer": "ipython3",
   "version": "3.11.4"
  }
 },
 "nbformat": 4,
 "nbformat_minor": 5
}
