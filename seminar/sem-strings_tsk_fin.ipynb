{
 "cells": [
  {
   "cell_type": "code",
   "execution_count": 33,
   "id": "012d710d",
   "metadata": {},
   "outputs": [
    {
     "name": "stdout",
     "output_type": "stream",
     "text": [
      "2048\n"
     ]
    }
   ],
   "source": [
    "# ex.0 Получить переменную, содержащую строку со значением равным двум в одиннадцатой степени и вывести ее на экран.\n",
    "\n",
    "x = 2 ** 11\n",
    "print(str(x))\n"
   ]
  },
  {
   "cell_type": "code",
   "execution_count": 34,
   "id": "803ccdd0",
   "metadata": {},
   "outputs": [
    {
     "name": "stdout",
     "output_type": "stream",
     "text": [
      "It's \"quoted string\"\n"
     ]
    }
   ],
   "source": [
    "# ex.1 Наибольшим количеством способов создать строковую переменную, содержащую текст: It's \"quoted string\"\n",
    "\n",
    "a = ('It\\'s \"quoted string\"')\n",
    "print(a)\n"
   ]
  },
  {
   "cell_type": "code",
   "execution_count": 35,
   "id": "953c518c",
   "metadata": {},
   "outputs": [
    {
     "name": "stdout",
     "output_type": "stream",
     "text": [
      "\n",
      "\n",
      "\n",
      "\n",
      "\n",
      "\n"
     ]
    }
   ],
   "source": [
    "# ex.2 Наибольшим количеством способов создать строковую переменную, содержащую текст:\n",
    "# line1\n",
    "# line2\n",
    "# line3\n",
    "\n",
    "l1 = input('')\n",
    "l2 = input('')\n",
    "l3 = input('')\n",
    "print(f'{l1}\\n{l2}\\n{l3}')\n"
   ]
  },
  {
   "cell_type": "code",
   "execution_count": 36,
   "id": "7e694f15",
   "metadata": {},
   "outputs": [
    {
     "name": "stdout",
     "output_type": "stream",
     "text": [
      "\\\n",
      "\\\\\n",
      "\\\\\\\n",
      "\\\\\\\\\n"
     ]
    }
   ],
   "source": [
    "# ex.3 Наибольшим количеством способов создать строковую переменную, содержащую текст:\n",
    "# \\\\\\\\\n",
    "# \\\\\\\n",
    "# \\\\\n",
    "# \\\n",
    "\n",
    "print('\\\\\\n\\\\\\\\\\n\\\\\\\\\\\\\\n\\\\\\\\\\\\\\\\')"
   ]
  },
  {
   "cell_type": "code",
   "execution_count": 37,
   "id": "8c8d86fb",
   "metadata": {},
   "outputs": [
    {
     "name": "stdout",
     "output_type": "stream",
     "text": [
      "o w\n"
     ]
    }
   ],
   "source": [
    "# ex.4 Вывести 5й с начала и 5й с конца символ из строки 'Hello world'\n",
    "\n",
    "st = 'Hello world'\n",
    "print(st[4], st[-5])\n"
   ]
  },
  {
   "cell_type": "code",
   "execution_count": 38,
   "id": "203bdd03",
   "metadata": {},
   "outputs": [
    {
     "name": "stdout",
     "output_type": "stream",
     "text": [
      "w\n"
     ]
    }
   ],
   "source": [
    "# ex.5 Двумя способами получить символ 'w' из строки 'Hello world'\n",
    "\n",
    "print(st[st.find('w')])\n",
    "        "
   ]
  },
  {
   "cell_type": "code",
   "execution_count": 39,
   "id": "581ede94",
   "metadata": {},
   "outputs": [
    {
     "name": "stdout",
     "output_type": "stream",
     "text": [
      "\n"
     ]
    },
    {
     "ename": "IndexError",
     "evalue": "string index out of range",
     "output_type": "error",
     "traceback": [
      "\u001b[0;31m---------------------------------------------------------------------------\u001b[0m",
      "\u001b[0;31mIndexError\u001b[0m                                Traceback (most recent call last)",
      "Cell \u001b[0;32mIn[39], line 5\u001b[0m\n\u001b[1;32m      3\u001b[0m st \u001b[38;5;241m=\u001b[39m \u001b[38;5;28minput\u001b[39m(\u001b[38;5;124m'\u001b[39m\u001b[38;5;124m'\u001b[39m)\n\u001b[1;32m      4\u001b[0m a \u001b[38;5;241m=\u001b[39m \u001b[38;5;28mlen\u001b[39m(st) \u001b[38;5;241m/\u001b[39m\u001b[38;5;241m/\u001b[39m \u001b[38;5;241m2\u001b[39m\n\u001b[0;32m----> 5\u001b[0m \u001b[38;5;28mprint\u001b[39m(st[a])\n",
      "\u001b[0;31mIndexError\u001b[0m: string index out of range"
     ]
    }
   ],
   "source": [
    "# ex.6 Вывести символ, находящийся в середине заранее неизвестной строки, полученной с помощью функции input()\n",
    "\n",
    "st = input('')\n",
    "a = len(st) // 2\n",
    "print(st[a])"
   ]
  },
  {
   "cell_type": "code",
   "execution_count": 40,
   "id": "08841de5",
   "metadata": {},
   "outputs": [
    {
     "name": "stdout",
     "output_type": "stream",
     "text": [
      "Lig\n"
     ]
    }
   ],
   "source": [
    "# ex.7 Для строки 'Light ray' двумя способами получить подстроку с 1го по 4й символы включительно.\n",
    "\n",
    "st = 'Light ray'\n",
    "print(st[0:3])\n"
   ]
  },
  {
   "cell_type": "code",
   "execution_count": 41,
   "id": "328aec05",
   "metadata": {},
   "outputs": [
    {
     "name": "stdout",
     "output_type": "stream",
     "text": [
      " new\n"
     ]
    }
   ],
   "source": [
    "# ex.8 Для строки 'My new text' двумя способами получить подстроку с 3го по 7й символы включительно.\n",
    "\n",
    "st = 'My new text'\n",
    "print(st[2:6])\n"
   ]
  },
  {
   "cell_type": "code",
   "execution_count": 42,
   "id": "c0a6ce52",
   "metadata": {},
   "outputs": [
    {
     "name": "stdout",
     "output_type": "stream",
     "text": [
      " ray\n"
     ]
    }
   ],
   "source": [
    "# ex.9 Получить подстроку из последних 4х символов строки 'Light ray'.\n",
    "\n",
    "st = 'Light ray'\n",
    "print(st[-4:])\n"
   ]
  },
  {
   "cell_type": "code",
   "execution_count": 43,
   "id": "0289a90e",
   "metadata": {},
   "outputs": [
    {
     "name": "stdout",
     "output_type": "stream",
     "text": [
      "ih a\n"
     ]
    }
   ],
   "source": [
    "# ex.10 Составить строку из всех четных символов строки 'Light ray'.\n",
    "\n",
    "print(st[1::2])\n"
   ]
  },
  {
   "cell_type": "code",
   "execution_count": 44,
   "id": "fb5efa3e",
   "metadata": {},
   "outputs": [
    {
     "name": "stdout",
     "output_type": "stream",
     "text": [
      "Lgtry\n"
     ]
    }
   ],
   "source": [
    "# ex.11 Составить строку из всех нечетных символов строки 'Light ray'.\n",
    "\n",
    "print(st[::2])\n"
   ]
  },
  {
   "cell_type": "code",
   "execution_count": 45,
   "id": "f717253e",
   "metadata": {},
   "outputs": [
    {
     "name": "stdout",
     "output_type": "stream",
     "text": [
      "yar thgiL\n"
     ]
    }
   ],
   "source": [
    "# ex.12 Инвертировать (получить строку с обратной последовательностью символо) строку 'Light ray'.\n",
    "\n",
    "print(st[::-1])\n"
   ]
  },
  {
   "cell_type": "code",
   "execution_count": 46,
   "id": "db3e1739",
   "metadata": {},
   "outputs": [
    {
     "name": "stdout",
     "output_type": "stream",
     "text": [
      "\n",
      "\n"
     ]
    }
   ],
   "source": [
    "# ex.13 Вывести c третьего с начала до предпоследнего символа заранее неизвестной строки, полученной с помощью функции input().\n",
    "\n",
    "st = input('')\n",
    "print(st[2:-2])\n"
   ]
  },
  {
   "cell_type": "code",
   "execution_count": 47,
   "id": "0cc79a3a",
   "metadata": {},
   "outputs": [
    {
     "name": "stdout",
     "output_type": "stream",
     "text": [
      "\n",
      "\n"
     ]
    }
   ],
   "source": [
    "# ex.14 Получить подстроку неизвестной заранее строки, содержащую половину символов строки и расположенную по середине строки.\n",
    "\n",
    "st = input('')\n",
    "print(st[len(st)//4:(-len(st))//4])\n"
   ]
  },
  {
   "cell_type": "code",
   "execution_count": 48,
   "id": "b031bbe8",
   "metadata": {},
   "outputs": [
    {
     "name": "stdout",
     "output_type": "stream",
     "text": [
      "\n",
      "Not ok\n"
     ]
    }
   ],
   "source": [
    "# ex.15 Проверить, содержит ли произвольная строка, прочитанная в обратную сторону последовательность 'eno'\n",
    "\n",
    "st = input('')\n",
    "if st.rfind('one') >= 0:\n",
    "    print('Ok')\n",
    "else:\n",
    "    print('Not ok')\n",
    "    "
   ]
  },
  {
   "cell_type": "code",
   "execution_count": 49,
   "id": "5a775284",
   "metadata": {},
   "outputs": [
    {
     "name": "stdout",
     "output_type": "stream",
     "text": [
      "rayLig\n"
     ]
    }
   ],
   "source": [
    "# ex.16 Получить строку, начинающуюся с последних 3 символов стркои 'Light ray', а заканчивающуюся подстрокой с 1го до 4го символа строки.\n",
    "\n",
    "st = 'Light ray'\n",
    "print(st[-3:] + st[0:3])\n"
   ]
  },
  {
   "cell_type": "code",
   "execution_count": 50,
   "id": "351d5d2c",
   "metadata": {},
   "outputs": [
    {
     "name": "stdout",
     "output_type": "stream",
     "text": [
      "oneoneoneoneoneonetwotwotwo\n"
     ]
    }
   ],
   "source": [
    "# ex.17 Коротко записать создание строки 'oneoneoneoneoneonetwotwotwo'\n",
    "\n",
    "st = 'one' * 6 + 'two' * 3\n",
    "print(st)\n"
   ]
  },
  {
   "cell_type": "code",
   "execution_count": 51,
   "id": "51bf6bbb",
   "metadata": {},
   "outputs": [
    {
     "name": "stdout",
     "output_type": "stream",
     "text": [
      "['one', 'two', 'three', 'four', 'five', 'six', 'seven', 'eight', 'nine', 'ten']\n"
     ]
    }
   ],
   "source": [
    "# ex.18 Разбить строку ' one,two,three,four,five,six,seven,eight,nine,ten ' на список из строк, состоящих только из названий цифр.\n",
    "\n",
    "st = 'one,two,three,four,five,six,seven,eight,nine,ten'\n",
    "lst = st.split(',')\n",
    "print(lst)\n"
   ]
  },
  {
   "cell_type": "code",
   "execution_count": 52,
   "id": "035151fd",
   "metadata": {},
   "outputs": [
    {
     "name": "stdout",
     "output_type": "stream",
     "text": [
      "H->e->l->l->o-> ->w->o->r->l->d->\n"
     ]
    }
   ],
   "source": [
    "# ex.19 Вставить между всеми символами строки 'Hello world' стрелочку '->' и сохранить результат в строковой переменной(ожидаемый результат: 'H->e->l->l->o-> ->w->o->r->l->d')\n",
    "\n",
    "st = 'Hello world'\n",
    "st2 = ''\n",
    "for i in range(len(st)):\n",
    "    st2 = st2 + st[i] + '->'\n",
    "print(st2)\n"
   ]
  },
  {
   "cell_type": "code",
   "execution_count": 53,
   "id": "c5e609b8",
   "metadata": {},
   "outputs": [
    {
     "name": "stdout",
     "output_type": "stream",
     "text": [
      "True\n",
      "True\n",
      "True\n",
      "True\n",
      "True\n",
      "True\n",
      "True\n",
      "True\n",
      "True\n",
      "True\n",
      "True\n"
     ]
    }
   ],
   "source": [
    "# ex.20 Для двух произвольных строк провести сравнение на совпадение содержимого без учета регистра букв и начальных и конечных пробельных символов. Например, для двух строк ' HeLLO WOrlD' и 'hello WORLD ' такое сравнение должно возвращать True (содержание строк совпадает).\n",
    "\n",
    "st = 'HeLLO WOrlD'\n",
    "st2 = 'hello WORLD'\n",
    "for i in range(len(st)):\n",
    "    if st[i] == st2[i] or st[i] == st2[i].swapcase():\n",
    "        print ('True')\n",
    "    else: \n",
    "        print('False')\n"
   ]
  },
  {
   "cell_type": "code",
   "execution_count": 54,
   "id": "d792ec5e",
   "metadata": {},
   "outputs": [
    {
     "name": "stdout",
     "output_type": "stream",
     "text": [
      "6\n"
     ]
    }
   ],
   "source": [
    "# ex.21 В строке 'hello hello Hello hello' средствами Python найти индекс второго вхождения подстроки 'hel'\n",
    "\n",
    "st = 'hello hello Hello hello'\n",
    "print(st.find('hel', 1))\n"
   ]
  },
  {
   "cell_type": "code",
   "execution_count": 55,
   "id": "9083ba20",
   "metadata": {},
   "outputs": [
    {
     "name": "stdout",
     "output_type": "stream",
     "text": [
      "6\n"
     ]
    }
   ],
   "source": [
    "# ex.22 В строке 'hello hello Hello hello' средствами Python найти индекс второго с конца вхождения подстроки 'hel'\n",
    "\n",
    "print(st.rfind('hel', 0, 17))\n"
   ]
  },
  {
   "cell_type": "code",
   "execution_count": 56,
   "id": "1b35643e",
   "metadata": {},
   "outputs": [
    {
     "name": "stdout",
     "output_type": "stream",
     "text": [
      "hello python\n"
     ]
    }
   ],
   "source": [
    "# ex.23 Из заранее неизвестной строки вырезать подстроку, начинающуюся с 'he' и заканчивающееся 'on' (протестировать на строке ' start hello python world'.\n",
    "\n",
    "st = 'start hello python world'\n",
    "in1 = st.find('he')\n",
    "in2 = st.find('on')\n",
    "print(st[in1:in2 + len('on')])"
   ]
  },
  {
   "cell_type": "code",
   "execution_count": 57,
   "id": "1c89a52b",
   "metadata": {},
   "outputs": [
    {
     "name": "stdout",
     "output_type": "stream",
     "text": [
      "hello 1hello 2Hello 3hello 4"
     ]
    }
   ],
   "source": [
    "# ex.24 Используя цикл for и функцию enumerate() (см. лекцию 2) в вывести произвольную строку на экран и при этом убрать все пробелы и на их месте вывести номер слова по счету (пример: исходная строка 'hello hello Hello hello' -> выведено на экран 'hello1hello2Hello3hello4')\n",
    "\n",
    "st = 'hello hello Hello hello'\n",
    "for i, ste in enumerate(st.split()):\n",
    "    print(ste, (i+1),end='')"
   ]
  },
  {
   "cell_type": "code",
   "execution_count": 58,
   "id": "6b422c9a",
   "metadata": {},
   "outputs": [
    {
     "name": "stdout",
     "output_type": "stream",
     "text": [
      "val3-val2-val1-val2-val3\n"
     ]
    }
   ],
   "source": [
    "# ex.25 Сформировать строку форматирования, которая для вызова format('val1', 'val2', 'val3') будет возрващать следующий результат: 'val3-val2-val1-val2-val3'\n",
    "\n",
    "x1, x2, x3 = 'val1', 'val2', 'val3'\n",
    "print('{}-{}-{}-{}-{}'.format(x3, x2, x1, x2, x3))\n"
   ]
  },
  {
   "cell_type": "code",
   "execution_count": 59,
   "id": "7e990aa5",
   "metadata": {},
   "outputs": [],
   "source": [
    "# ex. 26 Сформировать строку форматирования fs, которая на при использовании в нижеследующем коде приводит к формированию таблицы, выведенной в следующей ячейке.\n",
    "\n",
    "\n"
   ]
  }
 ],
 "metadata": {
  "kernelspec": {
   "display_name": "Python 3 (ipykernel)",
   "language": "python",
   "name": "python3"
  },
  "language_info": {
   "codemirror_mode": {
    "name": "ipython",
    "version": 3
   },
   "file_extension": ".py",
   "mimetype": "text/x-python",
   "name": "python",
   "nbconvert_exporter": "python",
   "pygments_lexer": "ipython3",
   "version": "3.11.4"
  }
 },
 "nbformat": 4,
 "nbformat_minor": 5
}
