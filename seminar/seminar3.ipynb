{
 "cells": [
  {
   "cell_type": "markdown",
   "id": "4e7308ff",
   "metadata": {},
   "source": []
  },
  {
   "cell_type": "code",
   "execution_count": null,
   "id": "8700f654",
   "metadata": {},
   "outputs": [],
   "source": [
    "#1\n",
    "\n",
    "s1 = input('Введите первую строку:')\n",
    "a = int(input('Введите целое число:'))\n",
    "s2 = input('Введите вторую строку:')\n",
    "# print(len(s))\n",
    "if s1 and not a - 5 and not s2:\n",
    "    print('Правильный ответ')\n",
    "else:\n",
    "    print('Ответ неправильный, попробуйте еще раз.')\n",
    "    "
   ]
  },
  {
   "cell_type": "code",
   "execution_count": 12,
   "id": "8b80dea1",
   "metadata": {},
   "outputs": [
    {
     "name": "stdout",
     "output_type": "stream",
     "text": [
      "2\n",
      "False\n"
     ]
    }
   ],
   "source": [
    "#2\n",
    "\n",
    "x = int(input())\n",
    "\n",
    "if (x**2 > 6 - x) & (x > 0):\n",
    "    print('True')\n",
    "else:\n",
    "    print('False')\n"
   ]
  },
  {
   "cell_type": "code",
   "execution_count": null,
   "id": "a63453dd",
   "metadata": {},
   "outputs": [],
   "source": [
    "#3\n",
    "\n",
    "0 <= a <= c < 5 > c > b == 2\n"
   ]
  },
  {
   "cell_type": "code",
   "execution_count": 14,
   "id": "8266489b",
   "metadata": {},
   "outputs": [
    {
     "name": "stdout",
     "output_type": "stream",
     "text": [
      "Введите первую строку: adsjfnja\n",
      "Введите вторую строку: fdjfj\n",
      "Условие выполнено\n"
     ]
    }
   ],
   "source": [
    "#3.2\n",
    "\n",
    "str1 = input(\"Введите первую строку: \")\n",
    "str2 = input(\"Введите вторую строку: \")\n",
    "\n",
    "if len(str1) > len(str2) and str1 < str2:\n",
    "    print(\"Условие выполнено\")\n",
    "else:\n",
    "    print(\"Условие не выполнено\")\n"
   ]
  },
  {
   "cell_type": "code",
   "execution_count": 28,
   "id": "7e280320",
   "metadata": {},
   "outputs": [
    {
     "name": "stdout",
     "output_type": "stream",
     "text": [
      "[' string', 'String', '_string', 'strinG', 'string', 'string ', 'stringlong']\n",
      "True\n",
      "True\n",
      "True\n",
      "True\n",
      "True\n",
      "True\n"
     ]
    }
   ],
   "source": [
    "#4\n",
    "\n",
    "s1 = 'string'\n",
    "s2 = 'String'\n",
    "s3 = 'strinG'\n",
    "s4 = 'stringlong'\n",
    "s5 = ' string'\n",
    "s6 = 'string '\n",
    "s7 = '_string'\n",
    "\n",
    "l1 = sorted([s1, s2, s3, s4, s5, s6, s7])\n",
    "print(l1)\n",
    "\n",
    "for i in range(len(l1) - 1):\n",
    "    if l1[i] < l1[i + 1]:\n",
    "        print('True')\n",
    "    else:\n",
    "        print('False')\n"
   ]
  },
  {
   "cell_type": "code",
   "execution_count": 31,
   "id": "abc889f0",
   "metadata": {},
   "outputs": [
    {
     "name": "stdout",
     "output_type": "stream",
     "text": [
      "!!!lwdknldwn\n",
      "Nota bene: lwdknldwn\n",
      "exclaim\n"
     ]
    }
   ],
   "source": [
    "#5\n",
    "\n",
    "exclaim = '!!!'\n",
    "question = '???'\n",
    "s = input('')\n",
    "if exclaim in s:\n",
    "    if exclaim in s[0:3]:\n",
    "        s = s[3::]\n",
    "        print(f'Nota bene: {s}')\n",
    "    print('exclaim')\n",
    "elif question in s:\n",
    "    print('question')\n",
    "elif exclaim and question in s:\n",
    "    print()\n",
    "else:\n",
    "    print('random')\n"
   ]
  },
  {
   "cell_type": "code",
   "execution_count": 33,
   "id": "ac20d1ef",
   "metadata": {},
   "outputs": [
    {
     "name": "stdout",
     "output_type": "stream",
     "text": [
      "banana monkey\n"
     ]
    }
   ],
   "source": [
    "#7\n",
    "\n",
    "x = \"banana monkey\"\n",
    "y = \"orangutan\"\n",
    "friend = x if \"banana\" in x else y\n",
    "print(friend)\n"
   ]
  },
  {
   "cell_type": "code",
   "execution_count": null,
   "id": "b3c55501",
   "metadata": {},
   "outputs": [],
   "source": []
  }
 ],
 "metadata": {
  "kernelspec": {
   "display_name": "Python 3 (ipykernel)",
   "language": "python",
   "name": "python3"
  },
  "language_info": {
   "codemirror_mode": {
    "name": "ipython",
    "version": 3
   },
   "file_extension": ".py",
   "mimetype": "text/x-python",
   "name": "python",
   "nbconvert_exporter": "python",
   "pygments_lexer": "ipython3",
   "version": "3.11.4"
  }
 },
 "nbformat": 4,
 "nbformat_minor": 5
}
