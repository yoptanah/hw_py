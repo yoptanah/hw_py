{
 "cells": [
  {
   "cell_type": "code",
   "execution_count": 59,
   "id": "246b1866",
   "metadata": {},
   "outputs": [
    {
     "name": "stdout",
     "output_type": "stream",
     "text": [
      "adnadlcascas\n",
      "asdfaqsfcad\n",
      "adcs\n"
     ]
    }
   ],
   "source": [
    "#1\n",
    "\n",
    "s1 = input('')\n",
    "s2 = input('')\n",
    "s3 = ''\n",
    "\n",
    "for i in range(len(s1)):\n",
    "    for i2 in range(len(s2)):\n",
    "        if s1[i] == s2[i2]:\n",
    "            break\n",
    "        else:\n",
    "            continue\n",
    "    if s2[i2] in s3:\n",
    "        continue\n",
    "    else:\n",
    "        s3 += s2[i2]       \n",
    "print(s3)\n"
   ]
  },
  {
   "cell_type": "code",
   "execution_count": 33,
   "id": "999c3583",
   "metadata": {},
   "outputs": [
    {
     "name": "stdout",
     "output_type": "stream",
     "text": [
      "10\n",
      "3840\n"
     ]
    }
   ],
   "source": [
    "#2\n",
    "\n",
    "n = int(input())\n",
    "f = 1\n",
    "\n",
    "while n > 0:\n",
    "    f = f * n\n",
    "    n -= 2\n",
    "print(f)\n"
   ]
  },
  {
   "cell_type": "code",
   "execution_count": 32,
   "id": "17e72084",
   "metadata": {},
   "outputs": [
    {
     "name": "stdout",
     "output_type": "stream",
     "text": [
      "10\n",
      "3840\n"
     ]
    }
   ],
   "source": [
    "#3\n",
    "\n",
    "n = int(input())\n",
    "f = 1\n",
    "\n",
    "for i in range(n//2):\n",
    "    f = f * n\n",
    "    n -= 2\n",
    "print(f)\n"
   ]
  },
  {
   "cell_type": "code",
   "execution_count": 55,
   "id": "ae3d5be8",
   "metadata": {},
   "outputs": [
    {
     "name": "stdout",
     "output_type": "stream",
     "text": [
      "1\n",
      "34\n",
      "2 3 5 7 11 13 17 19 23 29 31 "
     ]
    }
   ],
   "source": [
    "#4\n",
    "\n",
    "a = int(input())\n",
    "b = int(input())\n",
    "\n",
    "for num in range(a, b+1):\n",
    "    if num > 1:\n",
    "        for i in range(2, num):\n",
    "            if (num % i) == 0:\n",
    "                break\n",
    "        else:\n",
    "            print(num, end=' ')\n",
    "            "
   ]
  },
  {
   "cell_type": "code",
   "execution_count": 71,
   "id": "2431595e",
   "metadata": {},
   "outputs": [
    {
     "name": "stdout",
     "output_type": "stream",
     "text": [
      "\n",
      "______________________________\n"
     ]
    }
   ],
   "source": [
    "#5\n",
    "\n",
    "while True:\n",
    "    s = input()\n",
    "    if s == 'STOP':\n",
    "        print('Program interrupted by user')\n",
    "        break\n",
    "    elif s >= 'a':\n",
    "        print(\"Too early in the dictionary. Try again!\")\n",
    "        continue    \n",
    "    else:\n",
    "        form_s = s.center(30, '_')\n",
    "        print(form_s)\n",
    "    break\n",
    "    "
   ]
  },
  {
   "cell_type": "code",
   "execution_count": null,
   "id": "3265f169",
   "metadata": {},
   "outputs": [],
   "source": [
    "#6\n",
    "\n",
    "s = input('')\n",
    "s2 = ''\n",
    "\n",
    "for i in range(len(s)):\n",
    "    if len(s) % (i+1) == 0:\n",
    "        s2 += s[i]\n",
    "print(s2)\n"
   ]
  },
  {
   "cell_type": "code",
   "execution_count": null,
   "id": "b3e5553f",
   "metadata": {},
   "outputs": [],
   "source": [
    "#7\n",
    "\n",
    "s1 = input('')\n",
    "s2 = input('')\n",
    "s1l = s1.lower()\n",
    "s2l = s2.lower()\n",
    "\n",
    "for i in s1l\n"
   ]
  },
  {
   "cell_type": "code",
   "execution_count": null,
   "id": "108d201f",
   "metadata": {},
   "outputs": [],
   "source": []
  }
 ],
 "metadata": {
  "kernelspec": {
   "display_name": "Python 3 (ipykernel)",
   "language": "python",
   "name": "python3"
  },
  "language_info": {
   "codemirror_mode": {
    "name": "ipython",
    "version": 3
   },
   "file_extension": ".py",
   "mimetype": "text/x-python",
   "name": "python",
   "nbconvert_exporter": "python",
   "pygments_lexer": "ipython3",
   "version": "3.11.4"
  }
 },
 "nbformat": 4,
 "nbformat_minor": 5
}
