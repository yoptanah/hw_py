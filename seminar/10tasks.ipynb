{
 "cells": [
  {
   "cell_type": "code",
   "execution_count": null,
   "id": "4eaaa1c2",
   "metadata": {},
   "outputs": [],
   "source": [
    "import math"
   ]
  },
  {
   "cell_type": "code",
   "execution_count": 49,
   "id": "418d6bab",
   "metadata": {},
   "outputs": [
    {
     "name": "stdout",
     "output_type": "stream",
     "text": [
      "x = 3\n",
      "y = 0.42478\n"
     ]
    }
   ],
   "source": [
    "# var. 14, ex. 1\n",
    "# y = cos(2x - 1) + sin x\n",
    "\n",
    "x = float(input('x = '))\n",
    "y = math.cos((2 * x) - 1) + math.sin(x)\n",
    "print(f'y = {y:.5f}')\n"
   ]
  },
  {
   "cell_type": "code",
   "execution_count": 50,
   "id": "012a8770",
   "metadata": {
    "scrolled": true
   },
   "outputs": [
    {
     "name": "stdout",
     "output_type": "stream",
     "text": [
      "Введите первое ненулевое число: 3\n",
      "Введите второе ненулевое число: 24\n",
      "Сумма квадратов равна: 585.0\n",
      "Разность квадартов равна: -567.0\n",
      "Произведение квадратов равно:  5184.0\n",
      "Частное квадратов равно: 0.015625\n"
     ]
    }
   ],
   "source": [
    "# var. 14, ex. 2\n",
    "# Даны два ненулевых числа. Найти сумму, разность, произведение и частное их квадратов.\n",
    "\n",
    "num1 = float(input('Введите первое ненулевое число: '))\n",
    "num2 = float(input('Введите второе ненулевое число: '))\n",
    "if num1 and num2 != 0:\n",
    "    print(f'Сумма квадратов равна: {(num1**2) + (num2**2)}')\n",
    "    print(f'Разность квадартов равна: {(num1**2) - (num2**2)}')\n",
    "    print(f'Произведение квадратов равно:  {(num1**2) * (num2**2)}')\n",
    "    print(f'Частное квадратов равно: {(num1**2) / (num2**2)}')\n",
    "else:\n",
    "    print('Введено нулевое число')\n"
   ]
  },
  {
   "cell_type": "code",
   "execution_count": 51,
   "id": "83c6513c",
   "metadata": {},
   "outputs": [
    {
     "name": "stdout",
     "output_type": "stream",
     "text": [
      "Введите х: 13\n",
      "y = 0.9074467814501962\n"
     ]
    }
   ],
   "source": [
    "# var. 14, ex. 3 \n",
    "# y = cos(x), x > pi/2; sin(x), x=< pi/2\n",
    "\n",
    "x = float(input('Введите х: '))\n",
    "if x > (math.pi) / 2:\n",
    "    y = math.cos(x)\n",
    "    print('y =', y)\n",
    "else:\n",
    "    y = math.sin(x)\n",
    "    print('y =', y)\n"
   ]
  },
  {
   "cell_type": "code",
   "execution_count": 55,
   "id": "abf31c2a",
   "metadata": {},
   "outputs": [
    {
     "name": "stdout",
     "output_type": "stream",
     "text": [
      "Введите натуральное число N: 23\n",
      "Наибольшее K, при котором выполняется неравенство =  2\n"
     ]
    }
   ],
   "source": [
    "# var. 14, ex. 4\n",
    "# Дано целое число N > 1. Найти наибольшее целое число K, при котором выполняется неравенство 3**K < N.\n",
    "\n",
    "N = int(input('Введите натуральное число N: '))\n",
    "K = 0\n",
    "while 3**K < N:\n",
    "    K +=1\n",
    "print('Наибольшее K, при котором выполняется неравенство = ', K - 1)\n"
   ]
  },
  {
   "cell_type": "code",
   "execution_count": 74,
   "id": "bb142e1b",
   "metadata": {},
   "outputs": [
    {
     "name": "stdout",
     "output_type": "stream",
     "text": [
      "Введите действительное число x: 1\n",
      "Введите его степень n в виде натурального числа: 16\n",
      "1.0\n"
     ]
    }
   ],
   "source": [
    "# var. 14, ex. 5\n",
    "# Для заданного натурального n и действительного x подсчитать сумму: 1 - x + x**2 - x**3 + ... + (-1)**n * x**n\n",
    "\n",
    "x = float(input('Введите действительное число x: '))\n",
    "n = int(input('Введите его степень n: '))\n",
    "s = 1\n",
    "while n > 0:\n",
    "    s += ((-1)**n) * (x**n)\n",
    "    n -= 1\n",
    "print(s)\n"
   ]
  },
  {
   "cell_type": "code",
   "execution_count": 196,
   "id": "9ef5ae3e",
   "metadata": {},
   "outputs": [
    {
     "name": "stdout",
     "output_type": "stream",
     "text": [
      "12 33 44 55 66 100\n",
      "[100.0, 33.0, 44.0, 55.0, 66.0, 12.0]\n"
     ]
    }
   ],
   "source": [
    "# var. 14, ex. 6\n",
    "# Дан список. Поменять местами его минимальный и максимальный элементы.\n",
    "\n",
    "my_list = list(map(float, input().split()))\n",
    "my_list[my_list.index(max(my_list))], my_list[my_list.index(min(my_list))] = my_list[my_list.index(min(my_list))], my_list[my_list.index(max(my_list))]\n",
    "print(my_list)\n"
   ]
  },
  {
   "cell_type": "code",
   "execution_count": 4,
   "id": "4c987f9c",
   "metadata": {},
   "outputs": [
    {
     "name": "stdout",
     "output_type": "stream",
     "text": [
      "237 7 28 33 95 02 33 44\n",
      "[28, 33, 33, 44, 95, 237]\n"
     ]
    }
   ],
   "source": [
    "# var 14, ex. 7\n",
    "# Дан список. Выбрать из списка все двузначные числа и упорядочить эти числа по возрастанию.\n",
    "\n",
    "a = 0\n",
    "my_list2 = []\n",
    "my_list = list(map(int, input().split()))\n",
    "for i in my_list:\n",
    "    a = my_list[my_list.index(i)]\n",
    "    if a >= 10:\n",
    "        my_list2.append(a)\n",
    "    else:\n",
    "        continue\n",
    "print(sorted(my_list2))\n"
   ]
  },
  {
   "cell_type": "code",
   "execution_count": null,
   "id": "d44f5a91",
   "metadata": {},
   "outputs": [],
   "source": [
    "# var. 14, ex. 8\n",
    "# Дана целочисленная матрица размера M×N. Найти номер последней из ее строк, содержащих только четные числа. Если таких строк нет, то вывести 0.\n",
    "\n",
    "n = int(input('Введите кол-во строк: '))\n",
    "last_even_row = 0\n",
    "A = list()\n",
    "for i in range(n):\n",
    "    A.append(list(map(int, input().split())))\n",
    "for row in A:\n",
    "    for num in row:\n",
    "        print(num, end = ' ')\n",
    "    print()\n",
    "for row in A:\n",
    "    for num in row:\n",
    "        if A(num) % 2 == 0:\n",
    "            continue   \n",
    "        else:\n",
    "            break\n",
    "        last_even_row = row + 1 \n",
    "        \n",
    "    \n",
    "print(last_even_row)\n",
    "        \n",
    "    "
   ]
  },
  {
   "cell_type": "code",
   "execution_count": null,
   "id": "e1975047",
   "metadata": {},
   "outputs": [],
   "source": [
    "# var. 14, ex. 9\n",
    "# Дана строка, содержащая полное имя файла, то есть имя диска, список каталогов (путь), собственно имя и расширение. Выделить из этой строки имя файла (без расширения).\n",
    "\n",
    "st = 'd:\\ivanov\\primer\\prog.py'\n",
    "a = st.rfind('\\\\') + 1\n",
    "b = st.find('.')\n",
    "print(st[a:b])\n"
   ]
  },
  {
   "cell_type": "code",
   "execution_count": 342,
   "id": "6a729737",
   "metadata": {},
   "outputs": [
    {
     "name": "stdout",
     "output_type": "stream",
     "text": [
      "Введите текст: ekjbfbw wdlvkns\n",
      "EkjbfbW WdlvknS\n"
     ]
    }
   ],
   "source": [
    "# var. 14, ex. 10\n",
    "# Перевести в верхний регистр первую и последнюю буквы каждого слова заданной строки.\n",
    "\n",
    "st = str(input('Введите текст: '))\n",
    "reversed_st = st[::-1]\n",
    "st = st.title()\n",
    "reversed_st = reversed_st.title()\n",
    "st2 = reversed_st[::-1]\n",
    "st3 = ''\n",
    "for i in range(len(st)):\n",
    "    if st[i] != st2[i]:\n",
    "        st3 += st[i].upper()\n",
    "    else:\n",
    "        st3 += st[i]\n",
    "print(st3)\n"
   ]
  },
  {
   "cell_type": "code",
   "execution_count": null,
   "id": "13bb8565",
   "metadata": {},
   "outputs": [],
   "source": []
  },
  {
   "cell_type": "code",
   "execution_count": null,
   "id": "0cf68f08",
   "metadata": {},
   "outputs": [],
   "source": []
  }
 ],
 "metadata": {
  "kernelspec": {
   "display_name": "Python 3 (ipykernel)",
   "language": "python",
   "name": "python3"
  },
  "language_info": {
   "codemirror_mode": {
    "name": "ipython",
    "version": 3
   },
   "file_extension": ".py",
   "mimetype": "text/x-python",
   "name": "python",
   "nbconvert_exporter": "python",
   "pygments_lexer": "ipython3",
   "version": "3.11.4"
  }
 },
 "nbformat": 4,
 "nbformat_minor": 5
}
