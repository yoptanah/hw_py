{
 "cells": [
  {
   "cell_type": "code",
   "execution_count": 1,
   "id": "38777fbd",
   "metadata": {},
   "outputs": [],
   "source": [
    "l1 = ['1', '123', '123', '12', '1', '123']\n",
    "l2 = [2, 4, -2, -3, 0 , 11 , 3 -1]\n",
    "\n",
    "d4 = {1: 10, 2: 20, 3: 30, 4: 40, 5: 50, 6: 60}\n",
    "d5 = {'a': 3, 'b': 4, 'c': 5, 'd': 6, 'e': 7, 'f': 8, 'g': 9}\n",
    "d6 = {'e': 20, 'f': 21, 'g': 22, 'h': 23, 'i': 24, 'j': 25, 'k': 26, 'l': 27}"
   ]
  },
  {
   "cell_type": "markdown",
   "id": "1f9f5677",
   "metadata": {},
   "source": [
    "4.13) Используюя список l1 создать список, в котором каждый элемент списка l1 будет заменен значением длины строки соответствующего элемента в списке l1. Использовать генераторы, решить задачу в одну строку."
   ]
  },
  {
   "cell_type": "code",
   "execution_count": 2,
   "id": "2c4eb569",
   "metadata": {},
   "outputs": [],
   "source": [
    "new_list = [len(x) for x in l1]"
   ]
  },
  {
   "cell_type": "markdown",
   "id": "3e93aa03",
   "metadata": {},
   "source": [
    "4.14) Подсчитать количество строк в списке l1, длина которых больше 2х. Использовать генераторы, решить задачу в одну строку."
   ]
  },
  {
   "cell_type": "code",
   "execution_count": 3,
   "id": "f5bb0d2b",
   "metadata": {},
   "outputs": [],
   "source": [
    "count = sum(1 for x in l1 if len(x) > 2)"
   ]
  },
  {
   "cell_type": "markdown",
   "id": "9e6fe610",
   "metadata": {},
   "source": [
    "5.1) Написать задокументированную функцию умножения двух чисел. Для каких типов данная функция будет возвращать практически ценный результат? Написать примеры использования этой функции."
   ]
  },
  {
   "cell_type": "code",
   "execution_count": 4,
   "id": "90fe2d1c",
   "metadata": {},
   "outputs": [],
   "source": [
    "def multiply(x, y):\n",
    "    return x * y"
   ]
  },
  {
   "cell_type": "markdown",
   "id": "3fd94342",
   "metadata": {},
   "source": [
    "5.2) Написать функцию умножения принимающую от одного до трех параметров. Написать примеры использования этой функции с разным количеством параметров."
   ]
  },
  {
   "cell_type": "code",
   "execution_count": 5,
   "id": "bbd08596",
   "metadata": {},
   "outputs": [],
   "source": [
    "def multiply(*xs):\n",
    "    result = 1\n",
    "    for x in xs:\n",
    "        result *= x\n",
    "    return result"
   ]
  },
  {
   "cell_type": "markdown",
   "id": "9b2cfb2e",
   "metadata": {},
   "source": [
    "5.3) Функцию из задания 2 вызвать с приведенными ниже аргументами. Для случая a4 выбрать 3 первых и 3 последних значения."
   ]
  },
  {
   "cell_type": "code",
   "execution_count": null,
   "id": "c6e2482d",
   "metadata": {},
   "outputs": [],
   "source": [
    "a1 = (15, 10 ,5)\n",
    "\n",
    "a2 = (3, 1)\n",
    "\n",
    "a3 = [2, 35, 55]\n",
    "\n",
    "a4 = (5, 10 ,15, 20)"
   ]
  },
  {
   "cell_type": "markdown",
   "id": "80e1a5a3",
   "metadata": {},
   "source": [
    "5.4) Реализовать функцию умножения, принимающую неограниченное количество значений. Написать примеры использования этой функции, в том числе с аргументами из задания 3."
   ]
  },
  {
   "cell_type": "code",
   "execution_count": 10,
   "id": "c0a25162",
   "metadata": {},
   "outputs": [],
   "source": [
    "def multiply(*xs):\n",
    "    result = 1\n",
    "    for x in xs:\n",
    "        result *= x\n",
    "    return result"
   ]
  },
  {
   "cell_type": "markdown",
   "id": "c51c48fc",
   "metadata": {},
   "source": [
    "5.5) Реализовать функции для выполнения четырех арифмитических операций преобразующих целые числа в целое число. Для двух заранее заданных целых чисел выполнить выбранную пользователем арифметическую операцию."
   ]
  },
  {
   "cell_type": "code",
   "execution_count": 12,
   "id": "b614b77e",
   "metadata": {},
   "outputs": [
    {
     "name": "stdout",
     "output_type": "stream",
     "text": [
      "Выберите операцию (+, -, *, /): *\n",
      "Введите первое число: 3\n",
      "Введите второе число: 52\n",
      "Результат: 156\n"
     ]
    }
   ],
   "source": [
    "def add(x, y):\n",
    "    return x + y\n",
    "\n",
    "def subtract(x, y):\n",
    "    return x - y\n",
    "\n",
    "def multiply(x, y):\n",
    "    return x * y\n",
    "\n",
    "def divide(x, y):\n",
    "    if y != 0:\n",
    "        return x / y\n",
    "    else:\n",
    "        return \"Деление на ноль невозможно\"\n",
    "\n",
    "op = input(\"Выберите операцию (+, -, *, /): \")\n",
    "x = int(input(\"Введите первое число: \"))\n",
    "y = int(input(\"Введите второе число: \"))\n",
    "\n",
    "if op == '+':\n",
    "    result = add(x, y)\n",
    "elif op == '-':\n",
    "    result = subtract(x, y)\n",
    "elif op == '*':\n",
    "    result = multiply(x, y)\n",
    "elif op == '/':\n",
    "    result = divide(x, y)\n",
    "else:\n",
    "    result = \"Неправильный выбор операции\"\n",
    "\n",
    "print(f\"Результат: {result}\")\n"
   ]
  },
  {
   "cell_type": "markdown",
   "id": "d6fe3ccd",
   "metadata": {},
   "source": [
    "5.6) Написать калькулятор для строковых выражений вида '<число> <операция> <число>', где <число> - целое число, например 113, <арифмитическая операция> - одна из операций +,-,*,/(деление нацело),%(остаток от деления),^(возведение в степень). Пример calc('13 - 5') -> 8"
   ]
  },
  {
   "cell_type": "code",
   "execution_count": 26,
   "id": "783246c2",
   "metadata": {},
   "outputs": [
    {
     "data": {
      "text/plain": [
       "2.0"
      ]
     },
     "execution_count": 26,
     "metadata": {},
     "output_type": "execute_result"
    }
   ],
   "source": [
    "def calc(expression):\n",
    "    parts = expression.split()\n",
    "    x = int(parts[0])\n",
    "    operator = parts[1]\n",
    "    y = int(parts[2])\n",
    "\n",
    "    if operator == '+':\n",
    "        return x + y\n",
    "    elif operator == '-':\n",
    "        return x - y\n",
    "    elif operator == '*':\n",
    "        return x * y\n",
    "    elif operator == '/':\n",
    "        if y != 0:\n",
    "            return x / y\n",
    "        else:\n",
    "            return \"Деление на ноль невозможно\"\n",
    "    elif operator == '%':\n",
    "        if y != 0:\n",
    "            return x % y\n",
    "        else:\n",
    "            return \"Деление на ноль невозможно\"\n",
    "    elif operator == '^':\n",
    "        return x ** y\n",
    "    else:\n",
    "        return \"Неверная операция\"\n",
    "\n",
    "calc('8 / 4')\n"
   ]
  },
  {
   "cell_type": "markdown",
   "id": "c0a25025",
   "metadata": {},
   "source": [
    "5.8) Написать функцию, которая преобразует целое число (от 0 до 99) в текстовое написание числа на русском языке. Пример: to_text(15) -> 'Пятнадцать'"
   ]
  },
  {
   "cell_type": "code",
   "execution_count": 2,
   "id": "f76d574e",
   "metadata": {},
   "outputs": [
    {
     "data": {
      "text/plain": [
       "'тридцать два'"
      ]
     },
     "execution_count": 2,
     "metadata": {},
     "output_type": "execute_result"
    }
   ],
   "source": [
    "def to_text(num):\n",
    "    digits = ['один', 'два', 'три', 'четыре', 'пять', 'шесть', 'семь', 'восемь', 'девять']\n",
    "    teens = ['одиннадцать', 'двенадцать', 'тринадцать', 'четырнадцать', 'пятнадцать', 'шестнадцать', 'семнадцать', 'восемнадцать', 'девятнадцать']\n",
    "    tens = ['десять', 'двадцать', 'тридцать', 'сорок', 'пятьдесят', 'шестьдесят', 'семьдесят', 'восемьдесят', 'девяносто']\n",
    "    \n",
    "    if num == 0:\n",
    "        return 'ноль'\n",
    "    elif num < 10:\n",
    "        return d[num-1]\n",
    "    elif num < 20:\n",
    "        return teens[(num-10)-1]\n",
    "    else:\n",
    "        ten = tens[(num // 10)-1]\n",
    "        dig = digits[(num % 10)-1]\n",
    "        if dig:\n",
    "            return ten + ' ' + dig\n",
    "        else:\n",
    "            return ten\n",
    "\n",
    "to_text(32)"
   ]
  },
  {
   "cell_type": "code",
   "execution_count": null,
   "id": "96644ed9",
   "metadata": {},
   "outputs": [],
   "source": []
  },
  {
   "cell_type": "code",
   "execution_count": 1,
   "id": "505b7a7c",
   "metadata": {},
   "outputs": [
    {
     "name": "stdout",
     "output_type": "stream",
     "text": [
      "33\n"
     ]
    }
   ],
   "source": [
    "def to_int(text):\n",
    "    numbers = {\n",
    "        'ноль': 0, 'один': 1, 'два': 2, 'три': 3, 'четыре': 4, 'пять': 5, 'шесть': 6, 'семь': 7, 'восемь': 8, 'девять': 9,\n",
    "        'десять': 10, 'одиннадцать': 11, 'двенадцать': 12, 'тринадцать': 13, 'четырнадцать': 14, 'пятнадцать': 15,\n",
    "        'шестнадцать': 16, 'семнадцать': 17, 'восемнадцать': 18, 'девятнадцать': 19, 'двадцать': 20, 'тридцать': 30,\n",
    "        'сорок': 40, 'пятьдесят': 50, 'шестьдесят': 60, 'семьдесят': 70, 'восемьдесят': 80, 'девяносто': 90,\n",
    "        'сто': 100, 'двести': 200, 'триста': 300, 'четыреста': 400, 'пятьсот': 500, 'шестьсот': 600, 'семьсот': 700,\n",
    "        'восемьсот': 800, 'девятьсот': 900\n",
    "    }\n",
    "\n",
    "    total = 0\n",
    "    for word in text.split():\n",
    "        total += numbers[word]\n",
    "    \n",
    "    return total\n",
    "\n",
    "print(to_int('тридцать три')) "
   ]
  },
  {
   "cell_type": "code",
   "execution_count": null,
   "id": "beb01146",
   "metadata": {},
   "outputs": [],
   "source": []
  }
 ],
 "metadata": {
  "kernelspec": {
   "display_name": "Python 3 (ipykernel)",
   "language": "python",
   "name": "python3"
  },
  "language_info": {
   "codemirror_mode": {
    "name": "ipython",
    "version": 3
   },
   "file_extension": ".py",
   "mimetype": "text/x-python",
   "name": "python",
   "nbconvert_exporter": "python",
   "pygments_lexer": "ipython3",
   "version": "3.11.4"
  }
 },
 "nbformat": 4,
 "nbformat_minor": 5
}
