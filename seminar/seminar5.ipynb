{
 "cells": [
  {
   "cell_type": "code",
   "execution_count": 2,
   "id": "c42ec8fc",
   "metadata": {},
   "outputs": [],
   "source": [
    "import re\n"
   ]
  },
  {
   "cell_type": "code",
   "execution_count": 3,
   "id": "f500ea78",
   "metadata": {},
   "outputs": [
    {
     "name": "stdout",
     "output_type": "stream",
     "text": [
      "['aaa', 'bbb', 'ccc', 'ddd']\n"
     ]
    }
   ],
   "source": [
    "#1\n",
    "\n",
    "s = 'aaa--bbb==ccc__ddd'\n",
    "s = re.split('--|==|__', s)\n",
    "print(s)\n"
   ]
  },
  {
   "cell_type": "code",
   "execution_count": 4,
   "id": "4b8a9bae",
   "metadata": {},
   "outputs": [
    {
     "name": "stdout",
     "output_type": "stream",
     "text": [
      "Yestea, axons jibe!\n",
      "Yestea\n"
     ]
    }
   ],
   "source": [
    "#2\n",
    "\n",
    "s = input('')\n",
    "word = re.search(r'\\w+', s).group()\n",
    "print(word)\n"
   ]
  },
  {
   "cell_type": "code",
   "execution_count": 5,
   "id": "e64f2c61",
   "metadata": {},
   "outputs": [
    {
     "name": "stdout",
     "output_type": "stream",
     "text": [
      "Yesterday, all my troubles...\n",
      "troubles\n"
     ]
    }
   ],
   "source": [
    "#3\n",
    "\n",
    "s = input('')\n",
    "word = re.findall(r'\\w+', s)[-1]\n",
    "print(word)\n"
   ]
  },
  {
   "cell_type": "code",
   "execution_count": 6,
   "id": "3a690e76",
   "metadata": {},
   "outputs": [
    {
     "name": "stdout",
     "output_type": "stream",
     "text": [
      "Yesterday, all my troubles...\n",
      "['Yesterday', 'all']\n"
     ]
    }
   ],
   "source": [
    "#4\n",
    "\n",
    "s = input('')\n",
    "word = re.findall(r'\\b[eyuioaEYUIOA]\\w+', s)\n",
    "print(word)\n"
   ]
  },
  {
   "cell_type": "code",
   "execution_count": 7,
   "id": "4683a115",
   "metadata": {},
   "outputs": [
    {
     "name": "stdout",
     "output_type": "stream",
     "text": [
      " www@pochta.org\n",
      "True\n"
     ]
    }
   ],
   "source": [
    "#5\n",
    "\n",
    "s = input('')\n",
    "email = re.findall(r'\\w+[@]\\w+[.]\\w+', s)\n",
    "print(bool(email))\n"
   ]
  },
  {
   "cell_type": "code",
   "execution_count": 8,
   "id": "4bd26624",
   "metadata": {},
   "outputs": [
    {
     "name": "stdout",
     "output_type": "stream",
     "text": [
      "www@email.ru\n",
      "ru\n"
     ]
    }
   ],
   "source": [
    "#6\n",
    "\n",
    "s = input('')\n",
    "email = re.findall(r'\\w+[@]\\w+[.]\\w+', s)\n",
    "if bool(email) is True:\n",
    "    domain = re.findall(r'\\w+', s)[-1]\n",
    "    print(domain)\n",
    "else:\n",
    "    print('error')"
   ]
  },
  {
   "cell_type": "code",
   "execution_count": 9,
   "id": "2ea753cf",
   "metadata": {},
   "outputs": [
    {
     "name": "stdout",
     "output_type": "stream",
     "text": [
      "www@email.ru www@email.ru www@email.ru\n",
      "www\n",
      "email\n",
      "ru\n",
      "www\n",
      "email\n",
      "ru\n",
      "www\n",
      "email\n",
      "ru\n"
     ]
    }
   ],
   "source": [
    "#7\n",
    "\n",
    "s = input('')\n",
    "eml = re.split(r'[@|.| |,]', s)\n",
    "for i, domain in enumerate(eml, 2):\n",
    "    print(domain)\n",
    "    i += 3\n"
   ]
  }
 ],
 "metadata": {
  "kernelspec": {
   "display_name": "Python 3 (ipykernel)",
   "language": "python",
   "name": "python3"
  },
  "language_info": {
   "codemirror_mode": {
    "name": "ipython",
    "version": 3
   },
   "file_extension": ".py",
   "mimetype": "text/x-python",
   "name": "python",
   "nbconvert_exporter": "python",
   "pygments_lexer": "ipython3",
   "version": "3.11.4"
  }
 },
 "nbformat": 4,
 "nbformat_minor": 5
}
