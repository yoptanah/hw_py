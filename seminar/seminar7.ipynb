{
 "cells": [
  {
   "attachments": {},
   "cell_type": "markdown",
   "id": "d335fce8",
   "metadata": {},
   "source": [
    "1) На основе переданной строки (не содержащей повторяющихся символов) создать словарь, в котром каждому символу строки будет соответствовать номер символа в строке. Пример: строка 'abcdef'\n"
   ]
  },
  {
   "cell_type": "code",
   "execution_count": 1,
   "id": "46a97b4c",
   "metadata": {},
   "outputs": [
    {
     "name": "stdout",
     "output_type": "stream",
     "text": [
      "{'a': 1, 'b': 2, 'c': 3, 'd': 4, 'e': 5, 'f': 6}\n"
     ]
    }
   ],
   "source": [
    "input_string = 'abcdef'\n",
    "char_dict = {}\n",
    "for i, char in enumerate(input_string):\n",
    "    char_dict[char] = i + 1\n",
    "\n",
    "print(char_dict)"
   ]
  },
  {
   "attachments": {},
   "cell_type": "markdown",
   "id": "8a3dc692",
   "metadata": {},
   "source": [
    "2) Определить сколько элементов заданного списка содержится в словаре. Пример: определить сколько элементов списка l1 содержится в словаре d1 (ответ: 2)"
   ]
  },
  {
   "cell_type": "code",
   "execution_count": 6,
   "id": "ca7a396f",
   "metadata": {},
   "outputs": [
    {
     "name": "stdout",
     "output_type": "stream",
     "text": [
      "2\n"
     ]
    }
   ],
   "source": [
    "l1 = [1, 2, 3, 4]\n",
    "d1 = {'a': 1, 'b': 2, 'c': 6, 'd': 5}\n",
    "\n",
    "count = 0\n",
    "for i in l1:\n",
    "    if i in d1.values():\n",
    "        count += 1\n",
    "\n",
    "print(count)"
   ]
  },
  {
   "attachments": {},
   "cell_type": "markdown",
   "id": "0ede6d1f",
   "metadata": {},
   "source": [
    "3) Для строки evgene_o создать словарь где для всех символов, встречающихся в строке хранится число: сколько раз символ встретился в строке evgene_o."
   ]
  },
  {
   "cell_type": "code",
   "execution_count": 7,
   "id": "43cc8f5a",
   "metadata": {},
   "outputs": [
    {
     "name": "stdout",
     "output_type": "stream",
     "text": [
      "{'e': 3, 'v': 1, 'g': 1, 'n': 1, '_': 1, 'o': 1}\n"
     ]
    }
   ],
   "source": [
    "input_string = 'evgene_o'\n",
    "char_count = {}\n",
    "for char in input_string:\n",
    "    if char in char_count:\n",
    "        char_count[char] += 1\n",
    "    else:\n",
    "        char_count[char] = 1\n",
    "\n",
    "print(char_count)"
   ]
  },
  {
   "attachments": {},
   "cell_type": "markdown",
   "id": "54668c5f",
   "metadata": {},
   "source": [
    "4) Используя словарь, полученный в задаче 4.3 подсчитать количество строчных букв в строке evgene_o."
   ]
  },
  {
   "cell_type": "code",
   "execution_count": 8,
   "id": "57335f65",
   "metadata": {},
   "outputs": [
    {
     "name": "stdout",
     "output_type": "stream",
     "text": [
      "{'e': 3, 'v': 1, 'g': 1, 'n': 1, 'o': 1}\n"
     ]
    }
   ],
   "source": [
    "input_string = 'evgene_o'\n",
    "char_count = {}\n",
    "for char in input_string:\n",
    "    if char.islower():\n",
    "        if char in char_count:\n",
    "            char_count[char] += 1\n",
    "        else:\n",
    "            char_count[char] = 1\n",
    "\n",
    "print(char_count)"
   ]
  },
  {
   "attachments": {},
   "cell_type": "markdown",
   "id": "448fa52b",
   "metadata": {},
   "source": [
    "5) Написать код, который создает новый словарь с именем dic4, содержащий все пары ключ-значение из словарей dic1, dic2, dic3."
   ]
  },
  {
   "cell_type": "code",
   "execution_count": 9,
   "id": "b392e565",
   "metadata": {},
   "outputs": [
    {
     "name": "stdout",
     "output_type": "stream",
     "text": [
      "{'a': 1, 'b': 2, 'c': 3, 'd': 4, 'e': 5, 'f': 6}\n"
     ]
    }
   ],
   "source": [
    "dic1 = {'a': 1, 'b': 2}\n",
    "dic2 = {'c': 3, 'd': 4}\n",
    "dic3 = {'e': 5, 'f': 6}\n",
    "dic4 = {}\n",
    "\n",
    "for d in (dic1, dic2, dic3):\n",
    "    dic4.update(d)\n",
    "\n",
    "print(dic4)"
   ]
  },
  {
   "attachments": {},
   "cell_type": "markdown",
   "id": "b71ae485",
   "metadata": {},
   "source": [
    "6) Просуммировать все значения из словаря dic4"
   ]
  },
  {
   "cell_type": "code",
   "execution_count": 10,
   "id": "1c2e7d48",
   "metadata": {},
   "outputs": [
    {
     "name": "stdout",
     "output_type": "stream",
     "text": [
      "21\n"
     ]
    }
   ],
   "source": [
    "dic_sum = 0\n",
    "for i in dic4.values():\n",
    "    dic_sum += i\n",
    "print(dic_sum)"
   ]
  },
  {
   "attachments": {},
   "cell_type": "markdown",
   "id": "ae68a8fa",
   "metadata": {},
   "source": [
    "7) Перемножить все значения из словаря dic4"
   ]
  },
  {
   "cell_type": "code",
   "execution_count": 14,
   "id": "73d88467",
   "metadata": {},
   "outputs": [
    {
     "name": "stdout",
     "output_type": "stream",
     "text": [
      "720\n"
     ]
    }
   ],
   "source": [
    "dic_mult = 1\n",
    "for i in dic4.values():\n",
    "    dic_mult *= i\n",
    "print(dic_mult)"
   ]
  },
  {
   "attachments": {},
   "cell_type": "markdown",
   "id": "b941b536",
   "metadata": {},
   "source": [
    "9) На базе словаря dic6 создать словарь dic7 в котором нет пар ключ-значение с ключами, встречающимися в словаре dic5"
   ]
  },
  {
   "cell_type": "code",
   "execution_count": 15,
   "id": "5422b6d6",
   "metadata": {},
   "outputs": [
    {
     "name": "stdout",
     "output_type": "stream",
     "text": [
      "{'a': 1, 'd': 4}\n"
     ]
    }
   ],
   "source": [
    "dic6 = {'a': 1, 'b': 2, 'c': 3, 'd': 4}\n",
    "dic5 = {'b': 5, 'c': 6}\n",
    "dic7 = {k: v for k, v in dic6.items() if k not in dic5}\n",
    "print(dic7)"
   ]
  },
  {
   "attachments": {},
   "cell_type": "markdown",
   "id": "b9a266f4",
   "metadata": {},
   "source": [
    "10) Создать словарь dic8 в котором есть все пары ключ-значения из dic5, а для ключей, которые есть в dic6, но отсутствуют в dic5 добавить соответствующие пары ключ-значения в dic8."
   ]
  },
  {
   "cell_type": "code",
   "execution_count": 16,
   "id": "e75bd0a1",
   "metadata": {},
   "outputs": [
    {
     "name": "stdout",
     "output_type": "stream",
     "text": [
      "{'b': 5, 'c': 6, 'a': 1, 'd': 4}\n"
     ]
    }
   ],
   "source": [
    "dic6 = {'a': 1, 'b': 2, 'c': 3, 'd': 4}\n",
    "dic5 = {'b': 5, 'c': 6}\n",
    "dic8 = dic5.copy()\n",
    "for key, value in dic6.items():\n",
    "    if key not in dic8:\n",
    "        dic8[key] = value\n",
    "\n",
    "print(dic8)"
   ]
  },
  {
   "cell_type": "code",
   "execution_count": null,
   "id": "4fb03be5",
   "metadata": {},
   "outputs": [],
   "source": []
  }
 ],
 "metadata": {
  "kernelspec": {
   "display_name": "Python 3 (ipykernel)",
   "language": "python",
   "name": "python3"
  },
  "language_info": {
   "codemirror_mode": {
    "name": "ipython",
    "version": 3
   },
   "file_extension": ".py",
   "mimetype": "text/x-python",
   "name": "python",
   "nbconvert_exporter": "python",
   "pygments_lexer": "ipython3",
   "version": "3.11.4"
  }
 },
 "nbformat": 4,
 "nbformat_minor": 5
}
