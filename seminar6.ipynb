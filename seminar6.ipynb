{
 "cells": [
  {
   "cell_type": "markdown",
   "id": "e2874c3d",
   "metadata": {},
   "source": [
    "1) Создать список из чисел 31, 24, 17 тремя способами: перечисление, на основе другого списка (по сути, создать копию списка), с помощью функции range. Вывести списки на печать. Создать и вывести список, состоящий из полученных списков.\n"
   ]
  },
  {
   "cell_type": "code",
   "execution_count": 1,
   "id": "86fb845a",
   "metadata": {},
   "outputs": [],
   "source": [
    "import copy"
   ]
  },
  {
   "cell_type": "code",
   "execution_count": 15,
   "id": "821db633",
   "metadata": {},
   "outputs": [
    {
     "name": "stdout",
     "output_type": "stream",
     "text": [
      "[31, 24, 17] [31, 24, 17] [31, 24, 17]\n",
      "[[31, 24, 17], [31, 24, 17], [31, 24, 17]]\n"
     ]
    }
   ],
   "source": [
    "l = [31, 24, 17]\n",
    "lcopy = copy.deepcopy(l)\n",
    "lcopy2 = [i for i in l]\n",
    "listolists = [l, lcopy, lcopy2]\n",
    "print(l, lcopy, lcopy2)\n",
    "print(listolists)"
   ]
  },
  {
   "cell_type": "markdown",
   "id": "121fcaa0",
   "metadata": {},
   "source": [
    "2.1) Создать список из всех симоволов имеющихся во введенной пользователем строке.\n",
    "\n",
    "2.2) Создать список из всех слов имеющихся во введенной пользователем строке.\n",
    "\n",
    "2.3) Создать и вывести список из всех цифр, встречающихся в заданной строке.\n",
    "\n"
   ]
  },
  {
   "cell_type": "code",
   "execution_count": 17,
   "id": "1c904e06",
   "metadata": {},
   "outputs": [
    {
     "name": "stdout",
     "output_type": "stream",
     "text": [
      "1fwvfev3434fdscs sdcwdci32\n",
      "['1', 'f', 'w', 'v', 'f', 'e', 'v', '3', '4', '3', '4', 'f', 'd', 's', 'c', 's', ' ', 's', 'd', 'c', 'w', 'd', 'c', 'i', '3', '2'] ['1fwvfev3434fdscs', 'sdcwdci32'] ['1', '3', '4', '3', '4', '3', '2']\n"
     ]
    }
   ],
   "source": [
    "s = input()\n",
    "#1\n",
    "l = [symbol for symbol in s]\n",
    "#2\n",
    "l2 = s.split()\n",
    "#3\n",
    "l3 = []\n",
    "for i in s:\n",
    "    if i.isdigit():\n",
    "        l3.append(i)\n",
    "print(l, l2, l3)"
   ]
  },
  {
   "attachments": {},
   "cell_type": "markdown",
   "id": "1ab9b77d",
   "metadata": {},
   "source": [
    "3) Если в заданный список входит слово \"repeat\", а последний элемент - число, то заменить список на столько же копий всех элементов, не считая последних двух (последние два просто добавить). Например, список ['input', 'string', 'repeat', 3] должен быть заменен на ['input', 'string', 'input', 'string', 'input', 'string', 'repeat', 3].\n"
   ]
  },
  {
   "cell_type": "code",
   "execution_count": 1,
   "id": "9ae2ec0f",
   "metadata": {},
   "outputs": [
    {
     "name": "stdout",
     "output_type": "stream",
     "text": [
      "['input', 'string', 'input', 'string', 'input', 'string', 'repeat', 3]\n"
     ]
    }
   ],
   "source": [
    "input_list = ['input', 'string', 'repeat', 3]\n",
    "\n",
    "if 'repeat' in input_list and isinstance(input_list[-1], int):\n",
    "    repeat_index = input_list.index('repeat')\n",
    "    repeated_elements = input_list[:repeat_index] * input_list[-1]\n",
    "    input_list = repeated_elements + input_list[repeat_index:]\n",
    "\n",
    "print(input_list)"
   ]
  },
  {
   "attachments": {},
   "cell_type": "markdown",
   "id": "f754583a",
   "metadata": {},
   "source": [
    "4) Создать список из двух произвольных строк s1 и s2, их длин и результата проверки соблюдения лексикографического порядка (идет ли первая строка раньше второй). В зависимости от параметра output путем обращения к элементам списка выводить либо длины строк (output='lengths', в формате \"Длины строк: 4 и 5\"), либо описание порядка (output='order', в формате \"Строка 'первая' идет ПОСЛЕ строки 'вторая'\")."
   ]
  },
  {
   "cell_type": "code",
   "execution_count": 11,
   "id": "35ea743d",
   "metadata": {},
   "outputs": [
    {
     "name": "stdout",
     "output_type": "stream",
     "text": [
      "Введите параметр output: order или lenghts lengths\n",
      "Длины строк: 4 и 6\n"
     ]
    }
   ],
   "source": [
    "s1 = 'fall'\n",
    "s2 = 'autumn'\n",
    "\n",
    "result_list = [s1, s2, len(s1), len(s2), s1 < s2]\n",
    "\n",
    "output = input('Введите параметр output: order или lengths ') \n",
    "\n",
    "if output == 'lengths':\n",
    "    print(f\"Длины строк: {len(s1)} и {len(s2)}\")\n",
    "elif output == 'order':\n",
    "    if s1 < s2:\n",
    "        print(f\"Строка '{s1}' идет ПЕРЕД строкой '{s2}'\")\n",
    "    else:\n",
    "        print(f\"Строка '{s1}' идет ПОСЛЕ строки '{s2}'\")"
   ]
  },
  {
   "attachments": {},
   "cell_type": "markdown",
   "id": "59ab202e",
   "metadata": {},
   "source": [
    "5.1) Запросить у пользователя 2 целых числа и сохранить их в переменных max_val, repeat. Создать список из целых чисел со значениями от 1 до max_val включительно повторяющийся repeat раз.\n",
    "Например для max_val=4, repeat=4 будет создан список:\n",
    "[1, 2, 3, 4, 1, 2, 3, 4, 1, 2, 3, 4,]\n",
    "\n"
   ]
  },
  {
   "cell_type": "code",
   "execution_count": 13,
   "id": "4ce7b70e",
   "metadata": {},
   "outputs": [
    {
     "name": "stdout",
     "output_type": "stream",
     "text": [
      "Введите значение переменной max_val: 3\n",
      "Введите значение переменной repeat: 5\n",
      "[1, 2, 3, 1, 2, 3, 1, 2, 3, 1, 2, 3, 1, 2, 3]\n"
     ]
    }
   ],
   "source": [
    "max_val = int(input(\"Введите значение переменной max_val: \"))\n",
    "repeat = int(input(\"Введите значение переменной repeat: \"))\n",
    "\n",
    "result_list = [i for _ in range(repeat) for i in range(1, max_val + 1)]\n",
    "\n",
    "print(result_list)"
   ]
  },
  {
   "attachments": {},
   "cell_type": "markdown",
   "id": "3fb233c6",
   "metadata": {},
   "source": [
    "6) Из произвольной строки создать список. Вместо каждой буквы \"s\" (без учета регистра), стоящей не на первом и не на последнем месте, вставить в список строку из двойного предыдущего символа и одного следующего. Например, из строки \"test_Stringss\" должен получиться список ['t', 'e', 'eet', 't', '_', '__t', 't', 'r', 'i', 'n', 'g', 'ggs', 's']."
   ]
  },
  {
   "cell_type": "code",
   "execution_count": 15,
   "id": "8724e99d",
   "metadata": {},
   "outputs": [
    {
     "name": "stdout",
     "output_type": "stream",
     "text": [
      "['t', 'e', 'eet', 't', '_', '__t', 't', 'r', 'i', 'n', 'g', 'ggs', 's']\n"
     ]
    }
   ],
   "source": [
    "input_str = \"test_Stringss\"\n",
    "\n",
    "output_list = []\n",
    "for i in range(len(input_str)):\n",
    "    if input_str[i].lower() == 's' and i != 0 and i != len(input_str) - 1:\n",
    "        output_list.append(input_str[i-1] + input_str[i-1] + input_str[i+1])\n",
    "    else:\n",
    "        output_list.append(input_str[i])\n",
    "print(output_list)"
   ]
  },
  {
   "attachments": {},
   "cell_type": "markdown",
   "id": "b9887dd9",
   "metadata": {},
   "source": [
    "7)* Организовать заполнение списка заданной длины пользователем через input(). Если на вход подается число (целое или через точку), то записывать в список целое число с округлением вверх. Если \"True\" или \"False\", то как boolean. Иначе - как строку."
   ]
  },
  {
   "cell_type": "code",
   "execution_count": 16,
   "id": "ed8a09e7",
   "metadata": {},
   "outputs": [
    {
     "name": "stdout",
     "output_type": "stream",
     "text": [
      "Введите длину списка: 3\n",
      "Введите элемент списка: 4.123\n",
      "Введите элемент списка: truE\n",
      "Введите элемент списка: falSE\n",
      "Ваш список: [5, True, False]\n"
     ]
    }
   ],
   "source": [
    "import math\n",
    "\n",
    "length = int(input(\"Введите длину списка: \"))\n",
    "\n",
    "user_list = []\n",
    "\n",
    "for _ in range(length):\n",
    "    user_input = input(\"Введите элемент списка: \")\n",
    "\n",
    "    if user_input.replace('.', '', 1).isdigit():\n",
    "        user_list.append(math.ceil(float(user_input)))\n",
    "    elif user_input.lower() == \"true\":\n",
    "        user_list.append(True)\n",
    "    elif user_input.lower() == \"false\":\n",
    "        user_list.append(False)\n",
    "    else:\n",
    "        user_list.append(user_input)\n",
    "\n",
    "print(\"Ваш список:\", user_list)"
   ]
  },
  {
   "attachments": {},
   "cell_type": "markdown",
   "id": "e48bb066",
   "metadata": {},
   "source": [
    "8)Дивный новый мир:\n",
    "Заданы две заранее неизвестные строки в которых слова разделены пробелами. Из двух строк составить одну, в котрой слова из первой и второй строки будут чередоваться при этом порядок слов будет сохранен. Для преобразований использовать списки слов.\n",
    "Пример: 'один два три', 'альфа бетта гамма' -> 'один альфа два бетта три гамма'\n"
   ]
  },
  {
   "cell_type": "code",
   "execution_count": 17,
   "id": "d755c506",
   "metadata": {},
   "outputs": [
    {
     "name": "stdout",
     "output_type": "stream",
     "text": [
      "один альфа два бетта три гамма\n"
     ]
    }
   ],
   "source": [
    "str1 = 'один два три'\n",
    "str2 = 'альфа бетта гамма'\n",
    "\n",
    "words1 = str1.split()\n",
    "words2 = str2.split()\n",
    "\n",
    "merged_words = []\n",
    "len1 = len(words1)\n",
    "len2 = len(words2)\n",
    "max_len = max(len1, len2)\n",
    "\n",
    "for i in range(max_len):\n",
    "    if i < len1:\n",
    "        merged_words.append(words1[i])\n",
    "    if i < len2:\n",
    "        merged_words.append(words2[i])\n",
    "\n",
    "merged_string = ' '.join(merged_words)\n",
    "print(merged_string)"
   ]
  },
  {
   "attachments": {},
   "cell_type": "markdown",
   "id": "8ea1381c",
   "metadata": {},
   "source": [
    "10) Выполнить циклический сдвиг слов в произвольной строке (слова разделены пробелами) на заднное пользователем число слов. Решить с помощью списков слов.\n",
    "Пример \"один два три четыре пять шесть семь\", 3 -> \"четыре пять шесть семь один два три\"\n"
   ]
  },
  {
   "cell_type": "code",
   "execution_count": 19,
   "id": "1ff0edc5",
   "metadata": {},
   "outputs": [
    {
     "name": "stdout",
     "output_type": "stream",
     "text": [
      "четыре пять шесть семь один два три\n"
     ]
    }
   ],
   "source": [
    "st1 = \"один два три четыре пять шесть семь\"\n",
    "sdvig = 3\n",
    "\n",
    "words = st1.split()\n",
    "\n",
    "sdvig_words = words[sdvig:] + words[:sdvig]\n",
    "\n",
    "st_sdvig = ' '.join(sdvig_words)\n",
    "\n",
    "print(st_sdvig)"
   ]
  },
  {
   "attachments": {},
   "cell_type": "markdown",
   "id": "a6ec6be7",
   "metadata": {},
   "source": [
    "17) Осортировать слова в строке (с пробелом в качестве разделителя) в лексикографическом порядке.\n",
    "Пример: 'дыня абрикос яблоко арбуз' -> 'абрикос арбуз дыня яблоко'\n"
   ]
  },
  {
   "cell_type": "code",
   "execution_count": 20,
   "id": "e70fc68e",
   "metadata": {},
   "outputs": [
    {
     "name": "stdout",
     "output_type": "stream",
     "text": [
      "абрикос арбуз дыня яблоко\n"
     ]
    }
   ],
   "source": [
    "input_string = 'дыня абрикос яблоко арбуз'\n",
    "words = input_string.split()\n",
    "sorted_words = sorted(words)\n",
    "sorted_string = ' '.join(sorted_words)\n",
    "print(sorted_string)"
   ]
  },
  {
   "cell_type": "code",
   "execution_count": null,
   "id": "e567afcf",
   "metadata": {},
   "outputs": [],
   "source": []
  }
 ],
 "metadata": {
  "kernelspec": {
   "display_name": "Python 3 (ipykernel)",
   "language": "python",
   "name": "python3"
  },
  "language_info": {
   "codemirror_mode": {
    "name": "ipython",
    "version": 3
   },
   "file_extension": ".py",
   "mimetype": "text/x-python",
   "name": "python",
   "nbconvert_exporter": "python",
   "pygments_lexer": "ipython3",
   "version": "3.11.4"
  }
 },
 "nbformat": 4,
 "nbformat_minor": 5
}
